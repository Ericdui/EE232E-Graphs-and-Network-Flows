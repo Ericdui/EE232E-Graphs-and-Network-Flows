{
 "cells": [
  {
   "cell_type": "markdown",
   "metadata": {},
   "source": [
    "# Q1"
   ]
  },
  {
   "cell_type": "code",
   "execution_count": 1,
   "metadata": {
    "collapsed": true
   },
   "outputs": [],
   "source": [
    "import matplotlib.pyplot as plt\n",
    "import numpy as np\n",
    "from matplotlib import cm as cm"
   ]
  },
  {
   "cell_type": "code",
   "execution_count": 2,
   "metadata": {
    "collapsed": true
   },
   "outputs": [],
   "source": [
    "Reward_f1 = np.zeros((10,10))\n",
    "Reward_f1[9,9] += 1\n",
    "Reward_f2 = np.zeros((10,10))\n",
    "Reward_f2[1,4:7] -= 100\n",
    "Reward_f2[2:7,4] -= 100\n",
    "Reward_f2[2:4,6] -= 100\n",
    "Reward_f2[3,7:9] -= 100\n",
    "Reward_f2[4:8,8] -= 100\n",
    "Reward_f2[7,6:8] -= 100\n",
    "Reward_f2[8,6] -= 100\n",
    "Reward_f2[9,9] += 10"
   ]
  },
  {
   "cell_type": "code",
   "execution_count": 3,
   "metadata": {
    "collapsed": true
   },
   "outputs": [],
   "source": [
    "def plot_heat_map(array):\n",
    "    figure, ax = plt.subplots()\n",
    "\n",
    "    # set (0,0) to upper-left\n",
    "    ax.set_xlim(left=0, right=10)\n",
    "    ax.set_ylim(bottom=10, top=0)  \n",
    "    ax.xaxis.tick_top() \n",
    "\n",
    "    # set sticks\n",
    "    ax.set_xticks(np.linspace(0,9,10))  \n",
    "    ax.set_yticks(np.linspace(0,9,10))  \n",
    "\n",
    "    # set heat map\n",
    "    colormap = plt.pcolor(array)\n",
    "    cb = plt.colorbar(mappable=colormap, cax=None, ax=None)\n",
    "\n",
    "    # set grid\n",
    "    plt.grid()\n",
    "\n",
    "\n",
    "    plt.show()"
   ]
  },
  {
   "cell_type": "code",
   "execution_count": 4,
   "metadata": {},
   "outputs": [
    {
     "data": {
      "image/png": "[encoded data removed]",
      "text/plain": [
       "<matplotlib.figure.Figure at 0x10ebd1a90>"
      ]
     },
     "metadata": {},
     "output_type": "display_data"
    }
   ],
   "source": [
    "plot_heat_map(Reward_f1)"
   ]
  },
  {
   "cell_type": "code",
   "execution_count": 5,
   "metadata": {},
   "outputs": [
    {
     "data": {
      "image/png": "[encoded data removed]",
      "text/plain": [
       "<matplotlib.figure.Figure at 0x10ebfdd30>"
      ]
     },
     "metadata": {},
     "output_type": "display_data"
    }
   ],
   "source": [
    "plot_heat_map(Reward_f2)"
   ]
  },
  {
   "cell_type": "markdown",
   "metadata": {},
   "source": [
    "# Q2"
   ]
  },
  {
   "cell_type": "markdown",
   "metadata": {},
   "source": [
    "### 2.1.1 State spcae"
   ]
  },
  {
   "cell_type": "code",
   "execution_count": 6,
   "metadata": {
    "collapsed": true
   },
   "outputs": [],
   "source": [
    "S = np.array(np.linspace(0,99,100))\n",
    "S = S.reshape((10,10))\n",
    "S = S.T"
   ]
  },
  {
   "cell_type": "code",
   "execution_count": 7,
   "metadata": {},
   "outputs": [
    {
     "name": "stdout",
     "output_type": "stream",
     "text": [
      "[[  0.  10.  20.  30.  40.  50.  60.  70.  80.  90.]\n",
      " [  1.  11.  21.  31.  41.  51.  61.  71.  81.  91.]\n",
      " [  2.  12.  22.  32.  42.  52.  62.  72.  82.  92.]\n",
      " [  3.  13.  23.  33.  43.  53.  63.  73.  83.  93.]\n",
      " [  4.  14.  24.  34.  44.  54.  64.  74.  84.  94.]\n",
      " [  5.  15.  25.  35.  45.  55.  65.  75.  85.  95.]\n",
      " [  6.  16.  26.  36.  46.  56.  66.  76.  86.  96.]\n",
      " [  7.  17.  27.  37.  47.  57.  67.  77.  87.  97.]\n",
      " [  8.  18.  28.  38.  48.  58.  68.  78.  88.  98.]\n",
      " [  9.  19.  29.  39.  49.  59.  69.  79.  89.  99.]]\n"
     ]
    },
    {
     "data": {
      "image/png": "[encoded data removed]",
      "text/plain": [
       "<matplotlib.figure.Figure at 0x111d49c18>"
      ]
     },
     "metadata": {},
     "output_type": "display_data"
    }
   ],
   "source": [
    "print(S)\n",
    "plot_heat_map(S)"
   ]
  },
  {
   "cell_type": "markdown",
   "metadata": {},
   "source": [
    "### 2.1.2 Action set"
   ]
  },
  {
   "cell_type": "code",
   "execution_count": 8,
   "metadata": {
    "collapsed": true
   },
   "outputs": [],
   "source": [
    "# left, right, up ,down [0,1,2,3]\n",
    "A = [[-1, 0], [1, 0], [0, -1], [0, 1]]"
   ]
  },
  {
   "cell_type": "markdown",
   "metadata": {},
   "source": [
    "### 2.1.3 Transition probabilities"
   ]
  },
  {
   "cell_type": "code",
   "execution_count": 9,
   "metadata": {
    "collapsed": true
   },
   "outputs": [],
   "source": [
    "# to see if trasition out of bound\n",
    "def check(state, next_state):\n",
    "    if next_state < 0 or next_state > 99:\n",
    "        return False\n",
    "    elif state % 10 == 9 and next_state % 10 == 0:\n",
    "        return False\n",
    "    elif state % 10 == 0 and next_state % 10 == 9:\n",
    "        return False\n",
    "    return True"
   ]
  },
  {
   "cell_type": "code",
   "execution_count": 10,
   "metadata": {
    "collapsed": true
   },
   "outputs": [],
   "source": [
    "# generate original tran_matrix, from up to bottom, left to right\n",
    "# So S[1,1] is P_ss_a[11,:]\n",
    "# a = 0,1,2,3 for left, right, up ,down\n",
    "def tran_matrix(A):\n",
    "    P_ss_a = np.zeros((100, 100, 4))\n",
    "    P_ss_a = P_ss_a.astype(float)\n",
    "\n",
    "    # for non-boundary state\n",
    "    w = 0.1\n",
    "    for a in range(4):\n",
    "        for i in range(1,9):\n",
    "            for j in range(1,9):\n",
    "                for action in range(4):\n",
    "                    state = i*10+j\n",
    "                    next_state = (i+A[action][0])*10+j+A[action][1]\n",
    "                    P_ss_a[state, next_state, a] = (1 - (3 * w) / 4) if (action == a) else (w / 4)\n",
    "\n",
    "        # for corner state\n",
    "        for i in [0, 9]:\n",
    "            for j in [0, 9]:\n",
    "                for action in range(4):\n",
    "                    state = i*10+j\n",
    "                    next_state = (i+A[action][0])*10+j+A[action][1]\n",
    "                    if check(state, next_state):\n",
    "                        P_ss_a[state, next_state, a] = (1 - (3 * w) / 4) if (action == a) else (w / 4)\n",
    "                    else:\n",
    "                        P_ss_a[state, state, a] += (1 - (3 * w) / 4) if (action == a) else (w / 4)\n",
    "\n",
    "        # for edge state\n",
    "        for i in [0, 9]:\n",
    "            for j in range(1,9):\n",
    "                for action in range(4):\n",
    "                    state = i*10+j\n",
    "                    next_state = (i+A[action][0])*10+j+A[action][1]\n",
    "                    if check(state, next_state):\n",
    "                        P_ss_a[state, next_state, a] = (1 - (3 * w) / 4) if (action == a) else (w / 4)\n",
    "                    else:\n",
    "                        P_ss_a[state, state, a] = (1 - (3 * w) / 4) if (action == a) else (w / 4)\n",
    "        for i in range(1,9):\n",
    "            for j in [0,9]:\n",
    "                for action in range(4):\n",
    "                    state = i*10+j\n",
    "                    next_state = (i+A[action][0])*10+j+A[action][1]\n",
    "                    if check(state, next_state):\n",
    "                        P_ss_a[state, next_state, a] = (1 - (3 * w) / 4) if (action == a) else (w / 4)\n",
    "                    else:\n",
    "                        P_ss_a[state, state, a] = (1 - (3 * w) / 4) if (action == a) else (w / 4)\n",
    "                    \n",
    "    return P_ss_a"
   ]
  },
  {
   "cell_type": "code",
   "execution_count": 25,
   "metadata": {},
   "outputs": [
    {
     "name": "stdout",
     "output_type": "stream",
     "text": [
      "[[ 0.     0.925  0.     0.     0.     0.     0.     0.     0.     0.   ]\n",
      " [ 0.025  0.     0.025  0.     0.     0.     0.     0.     0.     0.   ]\n",
      " [ 0.     0.025  0.     0.     0.     0.     0.     0.     0.     0.   ]\n",
      " [ 0.     0.     0.     0.     0.     0.     0.     0.     0.     0.   ]\n",
      " [ 0.     0.     0.     0.     0.     0.     0.     0.     0.     0.   ]\n",
      " [ 0.     0.     0.     0.     0.     0.     0.     0.     0.     0.   ]\n",
      " [ 0.     0.     0.     0.     0.     0.     0.     0.     0.     0.   ]\n",
      " [ 0.     0.     0.     0.     0.     0.     0.     0.     0.     0.   ]\n",
      " [ 0.     0.     0.     0.     0.     0.     0.     0.     0.     0.   ]\n",
      " [ 0.     0.     0.     0.     0.     0.     0.     0.     0.     0.   ]]\n"
     ]
    }
   ],
   "source": [
    "# test\n",
    "P_ss_a = tran_matrix(A)\n",
    "print(P_ss_a[11,:,2].reshape(10,10).T)"
   ]
  },
  {
   "cell_type": "markdown",
   "metadata": {},
   "source": [
    "###  Optimal policy learning using RL algorithms"
   ]
  },
  {
   "cell_type": "code",
   "execution_count": 27,
   "metadata": {
    "collapsed": true
   },
   "outputs": [],
   "source": [
    "def value_iteration(P_ss_a, Reward_f1, S, A, gama):\n",
    "    # initial\n",
    "    pai = np.zeros_like(S)\n",
    "    V_s = np.zeros_like(S)\n",
    "    \n",
    "    delta = float('inf')\n",
    "    # Estimation\n",
    "    while delta > 0.01:\n",
    "        delta = 0\n",
    "        for i in range(10):\n",
    "            for j in range(10):\n",
    "                v = V_s[i, j]\n",
    "                for action in range(4):\n",
    "                    state = i*10+j\n",
    "                    next_state = (i+A[action][0])*10+j+A[action][1]\n",
    "                    state_value = np.sum(P_ss_a[state, next_state, action] * \\\n",
    "                                        (Reward_f1[i+A[action][0],j+A[action][1]] + \\\n",
    "                                        gama * V_s[i+A[action][0],j+A[action][1]]))\n",
    "                    if V_s[i, j] <= state_value:\n",
    "                        V_s[i, j] = state_value\n",
    "                        pai[i, j] = action\n",
    "                    else:\n",
    "                        continue  \n",
    "                        \n",
    "                delta = max(delta, np.abs(v - V_s[i, j]))\n",
    "    \n",
    "    # Computation\n",
    "    return pai\n",
    "                "
   ]
  },
  {
   "cell_type": "code",
   "execution_count": 28,
   "metadata": {},
   "outputs": [
    {
     "ename": "IndexError",
     "evalue": "index 10 is out of bounds for axis 1 with size 10",
     "output_type": "error",
     "traceback": [
      "\u001b[0;31m---------------------------------------------------------------------------\u001b[0m",
      "\u001b[0;31mIndexError\u001b[0m                                Traceback (most recent call last)",
      "\u001b[0;32m<ipython-input-28-2bb13a048011>\u001b[0m in \u001b[0;36m<module>\u001b[0;34m()\u001b[0m\n\u001b[0;32m----> 1\u001b[0;31m \u001b[0mvalue_iteration\u001b[0m\u001b[0;34m(\u001b[0m\u001b[0mP_ss_a\u001b[0m\u001b[0;34m,\u001b[0m \u001b[0mReward_f1\u001b[0m\u001b[0;34m,\u001b[0m \u001b[0mS\u001b[0m\u001b[0;34m,\u001b[0m \u001b[0mA\u001b[0m\u001b[0;34m,\u001b[0m \u001b[0mgama\u001b[0m \u001b[0;34m=\u001b[0m \u001b[0;36m0.8\u001b[0m\u001b[0;34m)\u001b[0m\u001b[0;34m\u001b[0m\u001b[0m\n\u001b[0m",
      "\u001b[0;32m<ipython-input-27-5206b5b232a2>\u001b[0m in \u001b[0;36mvalue_iteration\u001b[0;34m(P_ss_a, Reward_f1, S, A, gama)\u001b[0m\n\u001b[1;32m     14\u001b[0m                     \u001b[0mstate\u001b[0m \u001b[0;34m=\u001b[0m \u001b[0mi\u001b[0m\u001b[0;34m*\u001b[0m\u001b[0;36m10\u001b[0m\u001b[0;34m+\u001b[0m\u001b[0mj\u001b[0m\u001b[0;34m\u001b[0m\u001b[0m\n\u001b[1;32m     15\u001b[0m                     \u001b[0mnext_state\u001b[0m \u001b[0;34m=\u001b[0m \u001b[0;34m(\u001b[0m\u001b[0mi\u001b[0m\u001b[0;34m+\u001b[0m\u001b[0mA\u001b[0m\u001b[0;34m[\u001b[0m\u001b[0maction\u001b[0m\u001b[0;34m]\u001b[0m\u001b[0;34m[\u001b[0m\u001b[0;36m0\u001b[0m\u001b[0;34m]\u001b[0m\u001b[0;34m)\u001b[0m\u001b[0;34m*\u001b[0m\u001b[0;36m10\u001b[0m\u001b[0;34m+\u001b[0m\u001b[0mj\u001b[0m\u001b[0;34m+\u001b[0m\u001b[0mA\u001b[0m\u001b[0;34m[\u001b[0m\u001b[0maction\u001b[0m\u001b[0;34m]\u001b[0m\u001b[0;34m[\u001b[0m\u001b[0;36m1\u001b[0m\u001b[0;34m]\u001b[0m\u001b[0;34m\u001b[0m\u001b[0m\n\u001b[0;32m---> 16\u001b[0;31m                     \u001b[0mstate_value\u001b[0m \u001b[0;34m=\u001b[0m \u001b[0mnp\u001b[0m\u001b[0;34m.\u001b[0m\u001b[0msum\u001b[0m\u001b[0;34m(\u001b[0m\u001b[0mP_ss_a\u001b[0m\u001b[0;34m[\u001b[0m\u001b[0mstate\u001b[0m\u001b[0;34m,\u001b[0m \u001b[0mnext_state\u001b[0m\u001b[0;34m,\u001b[0m \u001b[0maction\u001b[0m\u001b[0;34m]\u001b[0m \u001b[0;34m*\u001b[0m                                         \u001b[0;34m(\u001b[0m\u001b[0mReward_f1\u001b[0m\u001b[0;34m[\u001b[0m\u001b[0mi\u001b[0m\u001b[0;34m+\u001b[0m\u001b[0mA\u001b[0m\u001b[0;34m[\u001b[0m\u001b[0maction\u001b[0m\u001b[0;34m]\u001b[0m\u001b[0;34m[\u001b[0m\u001b[0;36m0\u001b[0m\u001b[0;34m]\u001b[0m\u001b[0;34m,\u001b[0m\u001b[0mj\u001b[0m\u001b[0;34m+\u001b[0m\u001b[0mA\u001b[0m\u001b[0;34m[\u001b[0m\u001b[0maction\u001b[0m\u001b[0;34m]\u001b[0m\u001b[0;34m[\u001b[0m\u001b[0;36m1\u001b[0m\u001b[0;34m]\u001b[0m\u001b[0;34m]\u001b[0m \u001b[0;34m+\u001b[0m                                         \u001b[0mgama\u001b[0m \u001b[0;34m*\u001b[0m \u001b[0mV_s\u001b[0m\u001b[0;34m[\u001b[0m\u001b[0mi\u001b[0m\u001b[0;34m+\u001b[0m\u001b[0mA\u001b[0m\u001b[0;34m[\u001b[0m\u001b[0maction\u001b[0m\u001b[0;34m]\u001b[0m\u001b[0;34m[\u001b[0m\u001b[0;36m0\u001b[0m\u001b[0;34m]\u001b[0m\u001b[0;34m,\u001b[0m\u001b[0mj\u001b[0m\u001b[0;34m+\u001b[0m\u001b[0mA\u001b[0m\u001b[0;34m[\u001b[0m\u001b[0maction\u001b[0m\u001b[0;34m]\u001b[0m\u001b[0;34m[\u001b[0m\u001b[0;36m1\u001b[0m\u001b[0;34m]\u001b[0m\u001b[0;34m]\u001b[0m\u001b[0;34m)\u001b[0m\u001b[0;34m)\u001b[0m\u001b[0;34m\u001b[0m\u001b[0m\n\u001b[0m\u001b[1;32m     17\u001b[0m                     \u001b[0;32mif\u001b[0m \u001b[0mV_s\u001b[0m\u001b[0;34m[\u001b[0m\u001b[0mi\u001b[0m\u001b[0;34m,\u001b[0m \u001b[0mj\u001b[0m\u001b[0;34m]\u001b[0m \u001b[0;34m<=\u001b[0m \u001b[0mstate_value\u001b[0m\u001b[0;34m:\u001b[0m\u001b[0;34m\u001b[0m\u001b[0m\n\u001b[1;32m     18\u001b[0m                         \u001b[0mV_s\u001b[0m\u001b[0;34m[\u001b[0m\u001b[0mi\u001b[0m\u001b[0;34m,\u001b[0m \u001b[0mj\u001b[0m\u001b[0;34m]\u001b[0m \u001b[0;34m=\u001b[0m \u001b[0mstate_value\u001b[0m\u001b[0;34m\u001b[0m\u001b[0m\n",
      "\u001b[0;31mIndexError\u001b[0m: index 10 is out of bounds for axis 1 with size 10"
     ]
    }
   ],
   "source": [
    "value_iteration(P_ss_a, Reward_f1, S, A, gama = 0.8)"
   ]
  },
  {
   "cell_type": "code",
   "execution_count": null,
   "metadata": {
    "collapsed": true
   },
   "outputs": [],
   "source": []
  },
  {
   "cell_type": "code",
   "execution_count": null,
   "metadata": {},
   "outputs": [],
   "source": []
  },
  {
   "cell_type": "code",
   "execution_count": null,
   "metadata": {
    "collapsed": true
   },
   "outputs": [],
   "source": []
  }
 ],
 "metadata": {
  "kernelspec": {
   "display_name": "Python 3",
   "language": "python",
   "name": "python3"
  },
  "language_info": {
   "codemirror_mode": {
    "name": "ipython",
    "version": 3
   },
   "file_extension": ".py",
   "mimetype": "text/x-python",
   "name": "python",
   "nbconvert_exporter": "python",
   "pygments_lexer": "ipython3",
   "version": "3.6.2"
  }
 },
 "nbformat": 4,
 "nbformat_minor": 2
}
