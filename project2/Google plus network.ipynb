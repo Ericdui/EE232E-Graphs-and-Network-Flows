{
 "cells": [
  {
   "cell_type": "markdown",
   "metadata": {},
   "source": [
    "# 2.0"
   ]
  },
  {
   "cell_type": "code",
   "execution_count": 1,
   "metadata": {},
   "outputs": [
    {
     "name": "stderr",
     "output_type": "stream",
     "text": [
      "\n",
      "Attaching package: ‘igraph’\n",
      "\n",
      "The following objects are masked from ‘package:stats’:\n",
      "\n",
      "    decompose, spectrum\n",
      "\n",
      "The following object is masked from ‘package:base’:\n",
      "\n",
      "    union\n",
      "\n"
     ]
    }
   ],
   "source": [
    "library(igraph)"
   ]
  },
  {
   "cell_type": "code",
   "execution_count": 3,
   "metadata": {},
   "outputs": [
    {
     "ename": "ERROR",
     "evalue": "Error in read.graph.ncol(file, ...): At rinterface.c:5051 : Cannot read edgelist, File operation error\n",
     "output_type": "error",
     "traceback": [
      "Error in read.graph.ncol(file, ...): At rinterface.c:5051 : Cannot read edgelist, File operation error\nTraceback:\n",
      "1. read.graph(paste(\"google network/gplus\", \".edge\", sep = \"\"), \n .     format = \"ncol\", directed = TRUE)",
      "2. read.graph.ncol(file, ...)"
     ]
    }
   ],
   "source": [
    "# read graph\n",
    "g <- read.graph(paste('google network/gplus','.edge',sep=\"\"),format=\"ncol\",directed=TRUE)"
   ]
  },
  {
   "cell_type": "code",
   "execution_count": 2,
   "metadata": {},
   "outputs": [
    {
     "ename": "ERROR",
     "evalue": "Error in read.graph.edgelist(file, ...): At foreign.c:101 : parsing edgelist file failed, Parse error\n",
     "output_type": "error",
     "traceback": [
      "Error in read.graph.edgelist(file, ...): At foreign.c:101 : parsing edgelist file failed, Parse error\nTraceback:\n",
      "1. read_graph(\"google network/gplus\", format = \"edgelist\", directed = TRUE)",
      "2. read.graph.edgelist(file, ...)"
     ]
    }
   ],
   "source": [
    "g <- read_graph('google network/gplus',format=\"edgelist\",directed=TRUE)"
   ]
  },
  {
   "cell_type": "code",
   "execution_count": null,
   "metadata": {
    "collapsed": true
   },
   "outputs": [],
   "source": []
  }
 ],
 "metadata": {
  "kernelspec": {
   "display_name": "R",
   "language": "R",
   "name": "ir"
  },
  "language_info": {
   "codemirror_mode": "r",
   "file_extension": ".r",
   "mimetype": "text/x-r-source",
   "name": "R",
   "pygments_lexer": "r",
   "version": "3.4.2"
  }
 },
 "nbformat": 4,
 "nbformat_minor": 2
}
